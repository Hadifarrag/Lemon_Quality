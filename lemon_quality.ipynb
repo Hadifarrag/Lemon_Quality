{
  "nbformat": 4,
  "nbformat_minor": 0,
  "metadata": {
    "colab": {
      "provenance": [],
      "machine_shape": "hm",
      "gpuType": "V5E1"
    },
    "kernelspec": {
      "name": "python3",
      "display_name": "Python 3"
    },
    "language_info": {
      "name": "python"
    },
    "accelerator": "TPU"
  },
  "cells": [
    {
      "cell_type": "code",
      "execution_count": null,
      "metadata": {
        "colab": {
          "base_uri": "https://localhost:8080/"
        },
        "id": "Vs8RU9LEKg4l",
        "outputId": "5a219537-7e7c-4131-b4e3-1e5411f90809"
      },
      "outputs": [
        {
          "output_type": "stream",
          "name": "stdout",
          "text": [
            "Mounted at /content/drive\n"
          ]
        }
      ],
      "source": [
        "import pandas as pd\n",
        "import numpy as np\n",
        "import matplotlib.pyplot as plt\n",
        "import seaborn as sns\n",
        "import warnings\n",
        "warnings.filterwarnings('ignore')\n",
        "from zipfile import ZipFile\n",
        "from google.colab import drive\n",
        "drive.mount('/content/drive')\n",
        "import cv2 as cv"
      ]
    },
    {
      "cell_type": "code",
      "source": [
        "zip_filepath='/content/drive/MyDrive/graduation model/lemon_dataset.zip'\n",
        "\n",
        "# Use the imported zipfile module here\n",
        "with ZipFile(zip_filepath,'r') as zip_ref:\n",
        "  zip_ref.extractall('/content/dataset')\n",
        "\n",
        "dataset_folder='/content/dataset/lemon_quality'\n"
      ],
      "metadata": {
        "id": "yGLuTJwnLAnd"
      },
      "execution_count": null,
      "outputs": []
    },
    {
      "cell_type": "code",
      "source": [
        "blemon=\"/content/dataset/lemon_dataset/bad_quality\"\n",
        "glemon=\"/content/dataset/lemon_dataset/good_quality\""
      ],
      "metadata": {
        "id": "LorfZ6XuL1qr"
      },
      "execution_count": null,
      "outputs": []
    },
    {
      "cell_type": "code",
      "source": [
        "Allsizes=[]\n",
        "dataset_folder='/content/dataset/lemon_dataset'\n",
        "\n",
        "import os\n",
        "for folder_name in os.listdir(dataset_folder):\n",
        "  folder_path=os.path.join(dataset_folder,folder_name)\n",
        "  if os.path.isdir(folder_path):\n",
        "    for img in os.listdir(folder_path):\n",
        "      img_path=os.path.join(folder_path,img)\n",
        "      if img.endswith(('.jpg','.png','.jpeg')):\n",
        "        img=cv.imread(img_path)\n",
        "        img=cv.cvtColor(img,cv.COLOR_BGR2RGB)\n",
        "        if img is not None:\n",
        "          Allsizes.append(img.shape)\n",
        "\n",
        "\n",
        "#get images sizes\n",
        "unique_sizes=set(Allsizes)\n",
        "print(unique_sizes)"
      ],
      "metadata": {
        "colab": {
          "base_uri": "https://localhost:8080/"
        },
        "id": "qYzLnbsUNFL4",
        "outputId": "8e3019d1-82c3-4d15-e896-49f144dd9c06"
      },
      "execution_count": null,
      "outputs": [
        {
          "output_type": "stream",
          "name": "stdout",
          "text": [
            "{(300, 300, 3), (300, 296, 3), (292, 300, 3)}\n"
          ]
        }
      ]
    },
    {
      "cell_type": "code",
      "source": [
        "images = []\n",
        "labels = []\n",
        "# so i will change all the images to the size 300*300\n",
        "for folder_name in os.listdir(dataset_folder):\n",
        "  folder_path=os.path.join(dataset_folder,folder_name)\n",
        "  if os.path.isdir(folder_path):\n",
        "    for img in os.listdir(folder_path):\n",
        "      img_path=os.path.join(folder_path,img)\n",
        "      if img.endswith(('.jpg','.png','.jpeg')):\n",
        "        img=cv.imread(img_path)\n",
        "        img=cv.cvtColor(img,cv.COLOR_BGR2RGB)\n",
        "        if img is not None:\n",
        "          resized_img=cv.resize(img,(300,300))\n",
        "          cv.imwrite(img_path,resized_img)\n",
        "          images.append(resized_img)\n",
        "          labels.append(folder_name)\n",
        "\n",
        "print(f\"Number of images: {len(images)}\")\n",
        "print(f\"Number of labels: {len(labels)}\")"
      ],
      "metadata": {
        "colab": {
          "base_uri": "https://localhost:8080/"
        },
        "id": "l3vf47jvOT8q",
        "outputId": "ab43c39b-99ae-4ae7-af46-0f25432b578a"
      },
      "execution_count": null,
      "outputs": [
        {
          "output_type": "stream",
          "name": "stdout",
          "text": [
            "Number of images: 2076\n",
            "Number of labels: 2076\n"
          ]
        }
      ]
    },
    {
      "cell_type": "code",
      "source": [
        "images=np.array(images)\n",
        "images=images/255.0\n",
        "\n",
        "\n",
        "from sklearn.preprocessing import LabelEncoder\n",
        "label_encoder=LabelEncoder()\n",
        "labels=label_encoder.fit_transform(labels)"
      ],
      "metadata": {
        "id": "14xJEKNdPxxQ"
      },
      "execution_count": null,
      "outputs": []
    },
    {
      "cell_type": "code",
      "source": [
        "from sklearn.model_selection import train_test_split\n",
        "x_train,x_test,y_train,y_test=train_test_split(images,labels,test_size=0.2,random_state=32)\n"
      ],
      "metadata": {
        "id": "pkL7tPtxQFVB"
      },
      "execution_count": null,
      "outputs": []
    },
    {
      "cell_type": "code",
      "source": [
        "import tensorflow as tf\n",
        "from tensorflow.keras.applications import MobileNetV2\n",
        "from tensorflow.keras.layers import Dense, GlobalAveragePooling2D\n",
        "from tensorflow.keras.models import Model\n",
        "from tensorflow.keras.layers import Conv2D, MaxPooling2D, Flatten, Dense, Activation, Dropout, BatchNormalization\n",
        "\n",
        "\n",
        "base_model = MobileNetV2(weights='imagenet', include_top=False, input_shape=(300, 300, 3))\n",
        "\n",
        "\n",
        "x = base_model.output\n",
        "x = GlobalAveragePooling2D()(x)\n",
        "x = Dense(1028, activation='relu')(x)\n",
        "x = Dense(1028, activation='relu')(x)\n",
        "\n",
        "predictions = Dense(2, activation='softmax')(x)\n",
        "\n",
        "model = Model(inputs=base_model.input, outputs=predictions)\n",
        "\n",
        "\n",
        "for layer in base_model.layers:\n",
        "    layer.trainable = False\n",
        "\n",
        "\n",
        "model.compile(optimizer='adam', loss='sparse_categorical_crossentropy', metrics=['accuracy'])\n",
        "\n",
        "history = model.fit(x_train, y_train, epochs=5, validation_data=(x_test, y_test))\n",
        "\n",
        "\n",
        "# Save the model in HDF5 format\n",
        "model.save('/content/model.hdf5', save_format='hdf5')"
      ],
      "metadata": {
        "colab": {
          "base_uri": "https://localhost:8080/"
        },
        "id": "gAEakXMZQRrQ",
        "outputId": "515bfbb1-0d59-4234-f380-c02fd21b2dcb"
      },
      "execution_count": null,
      "outputs": [
        {
          "output_type": "stream",
          "name": "stderr",
          "text": [
            "WARNING:tensorflow:`input_shape` is undefined or non-square, or `rows` is not in [96, 128, 160, 192, 224]. Weights for input shape (224, 224) will be loaded as the default.\n"
          ]
        },
        {
          "output_type": "stream",
          "name": "stdout",
          "text": [
            "Epoch 1/5\n",
            "52/52 [==============================] - 20s 353ms/step - loss: 0.2584 - accuracy: 0.8807 - val_loss: 0.0488 - val_accuracy: 0.9880\n",
            "Epoch 2/5\n",
            "52/52 [==============================] - 17s 327ms/step - loss: 0.0645 - accuracy: 0.9813 - val_loss: 0.1216 - val_accuracy: 0.9447\n",
            "Epoch 3/5\n",
            "52/52 [==============================] - 17s 329ms/step - loss: 0.0429 - accuracy: 0.9807 - val_loss: 0.0902 - val_accuracy: 0.9591\n",
            "Epoch 4/5\n",
            "52/52 [==============================] - 18s 339ms/step - loss: 0.0317 - accuracy: 0.9892 - val_loss: 0.0391 - val_accuracy: 0.9856\n",
            "Epoch 5/5\n",
            "52/52 [==============================] - 18s 357ms/step - loss: 0.0064 - accuracy: 0.9994 - val_loss: 0.0982 - val_accuracy: 0.9736\n"
          ]
        }
      ]
    },
    {
      "cell_type": "code",
      "source": [],
      "metadata": {
        "id": "7J4NInsZQbJI"
      },
      "execution_count": null,
      "outputs": []
    }
  ]
}